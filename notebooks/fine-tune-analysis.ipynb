{
 "cells": [
  {
   "cell_type": "code",
   "execution_count": 1,
   "metadata": {},
   "outputs": [],
   "source": [
    "import torch\n",
    "\n",
    "\n",
    "assert torch.cuda.is_available()"
   ]
  },
  {
   "cell_type": "code",
   "execution_count": 2,
   "metadata": {},
   "outputs": [],
   "source": [
    "from transformers import DistilBertForSequenceClassification\n",
    "\n",
    "\n",
    "model_path = '../models/fine_tuned_aita_classifier'\n",
    "fine_tuned_bert = DistilBertForSequenceClassification.from_pretrained(model_path)"
   ]
  },
  {
   "cell_type": "code",
   "execution_count": 3,
   "metadata": {},
   "outputs": [],
   "source": [
    "def preprocess_text(text):\n",
    "    \"\"\"Clean and preprocess text\"\"\"\n",
    "    # Convert to lowercase\n",
    "    text = text.lower()\n",
    "    # Remove multiple spaces\n",
    "    text = ' '.join(text.split())\n",
    "    # Remove special characters but keep punctuation\n",
    "    text = ''.join([c if c.isalnum() or c.isspace() or c in '.,!?' else ' ' for c in text])\n",
    "    return text\n",
    "\n",
    "def predict_verdict(text, model, tokenizer):\n",
    "    \"\"\"Predict verdict with preprocessing\"\"\"\n",
    "    # Preprocess text\n",
    "    clean_text = preprocess_text(text)\n",
    "\n",
    "    # Add special tokens\n",
    "    text_with_tokens = f\"[TITLE] {clean_text}\"\n",
    "\n",
    "    # Tokenize\n",
    "    inputs = tokenizer(\n",
    "        text_with_tokens,\n",
    "        padding=True,\n",
    "        truncation=True,\n",
    "        max_length=512,\n",
    "        return_tensors=\"pt\"\n",
    "    )\n",
    "\n",
    "    # Move to GPU if available\n",
    "    if torch.cuda.is_available():\n",
    "        inputs = {k: v.to(\"cuda\") for k, v in inputs.items()}\n",
    "        model = model.to(\"cuda\")\n",
    "\n",
    "    # Get prediction\n",
    "    with torch.no_grad():\n",
    "        outputs = model(**inputs)\n",
    "        probabilities = torch.nn.functional.softmax(outputs.logits, dim=-1)\n",
    "        prediction = torch.argmax(probabilities, dim=-1).item()\n",
    "        confidence = probabilities[0][prediction].item()\n",
    "\n",
    "    return prediction, confidence\n",
    "\n",
    "def aita_classifier(text, model, tokenizer):\n",
    "    prediction, confidence = predict_verdict(text, model, tokenizer)\n",
    "    verdict = \"NTA\" if prediction == 1 else \"YTA\"\n",
    "    print(f\"Verdict: {verdict} (confidence: {confidence:.2f})\")\n",
    "\n",
    "    return verdict, confidence\n"
   ]
  },
  {
   "cell_type": "code",
   "execution_count": 4,
   "metadata": {},
   "outputs": [],
   "source": [
    "from transformers import AutoTokenizer\n",
    "\n",
    "\n",
    "tokenizer = AutoTokenizer.from_pretrained(\"distilbert-base-uncased\")"
   ]
  },
  {
   "cell_type": "code",
   "execution_count": 5,
   "metadata": {},
   "outputs": [
    {
     "name": "stderr",
     "output_type": "stream",
     "text": [
      "huggingface/tokenizers: The current process just got forked, after parallelism has already been used. Disabling parallelism to avoid deadlocks...\n",
      "To disable this warning, you can either:\n",
      "\t- Avoid using `tokenizers` before the fork if possible\n",
      "\t- Explicitly set the environment variable TOKENIZERS_PARALLELISM=(true | false)\n",
      "huggingface/tokenizers: The current process just got forked, after parallelism has already been used. Disabling parallelism to avoid deadlocks...\n",
      "To disable this warning, you can either:\n",
      "\t- Avoid using `tokenizers` before the fork if possible\n",
      "\t- Explicitly set the environment variable TOKENIZERS_PARALLELISM=(true | false)\n"
     ]
    },
    {
     "name": "stdout",
     "output_type": "stream",
     "text": [
      "Verdict: NTA (confidence: 0.98)\n"
     ]
    }
   ],
   "source": [
    "# https://www.reddit.com/r/AmItheAsshole/comments/1gwl76e/aitah_for_refusing_to_let_my_moms_boyfriend_walk/\n",
    "text = \"\"\"AITAH for refusing to let my mom’s boyfriend walk me down the aisle?\n",
    "\n",
    "I (24F) am getting married next summer, and ever since I started planning the wedding, my mom (48F) has been pushing for her boyfriend (50M) to walk me down the aisle. My dad passed away when I was 10, and my mom started dating her boyfriend about six years ago. While he’s always been nice to me, I’ve never seen him as a father figure, he came into my life when I was already an adult, and we’re friendly but not particularly close.\n",
    "\n",
    "I told my mom that I plan to walk myself down the aisle as a way to honor my independence and my dad’s memory. She got really upset, saying her boyfriend has “earned” the spot by being there for me all these years. She even accused me of disrespecting her relationship and trying to “erase” my dad, which couldn’t be further from the truth.\n",
    "\n",
    "Now her boyfriend is avoiding me, and my mom keeps calling me selfish and saying I’m ruining the wedding before it even starts. A few family members are also weighing in, saying I should let him do it to keep the peace. But this is my wedding, and I feel like I should have the final say. AITAH?\"\"\"\n",
    "\n",
    "verdict, confidence = aita_classifier(text, fine_tuned_bert, tokenizer)"
   ]
  },
  {
   "cell_type": "code",
   "execution_count": 6,
   "metadata": {},
   "outputs": [],
   "source": [
    "import pandas as pd\n",
    "\n",
    "\n",
    "validation = pd.read_csv('../data/VALIDATION.csv').drop('Unnamed: 0', axis=1)\n",
    "validation['label'] = 1 - validation['label']"
   ]
  },
  {
   "cell_type": "code",
   "execution_count": 7,
   "metadata": {},
   "outputs": [],
   "source": [
    "from torch.utils.data import DataLoader, TensorDataset\n",
    "import torch\n",
    "\n",
    "\n",
    "texts = validation[\"text\"].tolist()\n",
    "labels = validation[\"label\"].tolist()\n",
    "\n",
    "# Tokenize validation data\n",
    "encodings = tokenizer(texts, truncation=True, padding=True, max_length=512, return_tensors=\"pt\")\n",
    "\n",
    "# Create DataLoader\n",
    "dataset = TensorDataset(encodings[\"input_ids\"], encodings[\"attention_mask\"], torch.tensor(labels))\n",
    "validation_loader = DataLoader(dataset, batch_size=16)"
   ]
  },
  {
   "cell_type": "code",
   "execution_count": 8,
   "metadata": {},
   "outputs": [],
   "source": [
    "device = torch.device(\"cuda\" if torch.cuda.is_available() else \"cpu\")\n",
    "\n",
    "fine_tuned_bert.to(device)\n",
    "\n",
    "# Initialize storage for predictions and labels\n",
    "preds = []\n",
    "true_labels = []\n",
    "\n",
    "# Perform evaluation\n",
    "with torch.no_grad():\n",
    "    for batch in validation_loader:\n",
    "        # Move batch data to GPU\n",
    "        input_ids, attention_mask, labels = [tensor.to(device) for tensor in batch]\n",
    "\n",
    "        # Perform forward pass\n",
    "        outputs = fine_tuned_bert(input_ids, attention_mask=attention_mask)\n",
    "\n",
    "        # Get predictions and move to CPU\n",
    "        logits = outputs.logits\n",
    "        batch_preds = torch.argmax(logits, dim=1).cpu().numpy()  # Convert predictions to numpy on CPU\n",
    "        preds.extend(batch_preds)\n",
    "        true_labels.extend(labels.cpu().numpy())  # Move labels to CPU\n"
   ]
  },
  {
   "cell_type": "code",
   "execution_count": 9,
   "metadata": {},
   "outputs": [
    {
     "data": {
      "image/png": "[encoded data removed]",
      "text/plain": [
       "<Figure size 640x480 with 2 Axes>"
      ]
     },
     "metadata": {},
     "output_type": "display_data"
    }
   ],
   "source": [
    "import seaborn as sns\n",
    "from sklearn.metrics import confusion_matrix\n",
    "\n",
    "\n",
    "cm = confusion_matrix(true_labels, preds)\n",
    "\n",
    "sns.heatmap(cm, annot=True, fmt='d', cmap=\"Blues\", xticklabels=[\"NTA\", \"YTA\"], yticklabels=[\"NTA\", \"YTA\"])\n",
    "sns.despine()"
   ]
  }
 ],
 "metadata": {
  "kernelspec": {
   "display_name": "ml_proj",
   "language": "python",
   "name": "python3"
  },
  "language_info": {
   "codemirror_mode": {
    "name": "ipython",
    "version": 3
   },
   "file_extension": ".py",
   "mimetype": "text/x-python",
   "name": "python",
   "nbconvert_exporter": "python",
   "pygments_lexer": "ipython3",
   "version": "3.12.7"
  }
 },
 "nbformat": 4,
 "nbformat_minor": 2
}

{
 "cells": [
  {
   "cell_type": "code",
   "execution_count": 1,
   "metadata": {},
   "outputs": [],
   "source": [
    "import pandas as pd\n",
    "import numpy as np\n",
    "\n",
    "df = pd.read_csv('cleaned_aita.csv')"
   ]
  },
  {
   "cell_type": "code",
   "execution_count": 2,
   "metadata": {},
   "outputs": [
    {
     "data": {
      "text/plain": [
       "array(['nta', 'yta', 'unknown'], dtype=object)"
      ]
     },
     "execution_count": 2,
     "metadata": {},
     "output_type": "execute_result"
    }
   ],
   "source": [
    "df['verdict'].unique()"
   ]
  },
  {
   "cell_type": "code",
   "execution_count": null,
   "metadata": {},
   "outputs": [],
   "source": [
    "# we don't want unknowns\n",
    "df = df[df['verdict'] != 'unknown']\n",
    "# make verdict binary\n",
    "df['verdict'] = df['verdict'].map({'nta': 0, 'yta': 1})"
   ]
  },
  {
   "cell_type": "code",
   "execution_count": 4,
   "metadata": {},
   "outputs": [
    {
     "data": {
      "text/plain": [
       "array([0, 1])"
      ]
     },
     "execution_count": 4,
     "metadata": {},
     "output_type": "execute_result"
    }
   ],
   "source": [
    "df['verdict'].unique()"
   ]
  },
  {
   "cell_type": "code",
   "execution_count": null,
   "metadata": {},
   "outputs": [
    {
     "data": {
      "text/plain": [
       "Text(0.5, 1.0, 'Distribution of Verdicts')"
      ]
     },
     "execution_count": 5,
     "metadata": {},
     "output_type": "execute_result"
    },
    {
     "data": {
      "image/png": "[encoded data removed]",
      "text/plain": [
       "<Figure size 600x400 with 1 Axes>"
      ]
     },
     "metadata": {},
     "output_type": "display_data"
    }
   ],
   "source": [
    "import matplotlib.pyplot as plt\n",
    "\n",
    "# let's see distribution of yta and nta\n",
    "verdict_counts = df['verdict'].value_counts(normalize=True) * 100\n",
    "plt.figure(figsize=(6, 4))\n",
    "verdict_counts.plot(kind='bar')\n",
    "\n",
    "plt.xlabel('Verdict (0 = NTA, 1 = YTA)')\n",
    "plt.ylabel('Percentage')\n",
    "plt.title('Distribution of Verdicts')"
   ]
  },
  {
   "cell_type": "code",
   "execution_count": 6,
   "metadata": {},
   "outputs": [
    {
     "data": {
      "text/html": [
       "<div>\n",
       "<style scoped>\n",
       "    .dataframe tbody tr th:only-of-type {\n",
       "        vertical-align: middle;\n",
       "    }\n",
       "\n",
       "    .dataframe tbody tr th {\n",
       "        vertical-align: top;\n",
       "    }\n",
       "\n",
       "    .dataframe thead th {\n",
       "        text-align: right;\n",
       "    }\n",
       "</style>\n",
       "<table border=\"1\" class=\"dataframe\">\n",
       "  <thead>\n",
       "    <tr style=\"text-align: right;\">\n",
       "      <th></th>\n",
       "      <th>title</th>\n",
       "      <th>title.1</th>\n",
       "      <th>body</th>\n",
       "      <th>top_comment_1</th>\n",
       "      <th>top_comment_2</th>\n",
       "      <th>top_comment_3</th>\n",
       "      <th>top_comment_4</th>\n",
       "      <th>top_comment_5</th>\n",
       "      <th>top_comment_6</th>\n",
       "      <th>top_comment_7</th>\n",
       "      <th>top_comment_8</th>\n",
       "      <th>top_comment_9</th>\n",
       "      <th>top_comment_10</th>\n",
       "      <th>verdict</th>\n",
       "    </tr>\n",
       "  </thead>\n",
       "  <tbody>\n",
       "    <tr>\n",
       "      <th>0</th>\n",
       "      <td>aita for not taking one of my players complain...</td>\n",
       "      <td>aita for not taking one of my players complain...</td>\n",
       "      <td>i dm for a group of 5 people will lorraine ben...</td>\n",
       "      <td>nta listen youre the dm and seen as the figure...</td>\n",
       "      <td>nta yet because you are taking it seriously th...</td>\n",
       "      <td>nta i think you should talk with her a little ...</td>\n",
       "      <td>nta if she feels uncomfortable because shes in...</td>\n",
       "      <td>nta sounds like holly is being a territorial s...</td>\n",
       "      <td>nah but theres an easy way to solve it dump th...</td>\n",
       "      <td>nta it sounds like the person who made the com...</td>\n",
       "      <td>i would say nah i think holly is certainly ent...</td>\n",
       "      <td>nta likeyoure in charge of the game but youre ...</td>\n",
       "      <td>nah holly has issues of her own most likely an...</td>\n",
       "      <td>0</td>\n",
       "    </tr>\n",
       "    <tr>\n",
       "      <th>1</th>\n",
       "      <td>aita for not going to my stepsisters graduatio...</td>\n",
       "      <td>NaN</td>\n",
       "      <td>i 18m just graduated grade 12 this year my you...</td>\n",
       "      <td>nta my response would be thank you for the inv...</td>\n",
       "      <td>so nta and dont go i have never heard of a 7th...</td>\n",
       "      <td>nta what the hell is your step mum messaging y...</td>\n",
       "      <td>nta dont go you would be miserable and angry s...</td>\n",
       "      <td>nta id lie my ass off and say i cant attend be...</td>\n",
       "      <td>nta and i have to say youre being the only res...</td>\n",
       "      <td>nta now that you are 18 you get to pick who yo...</td>\n",
       "      <td>nta you dont feel like partying and are reason...</td>\n",
       "      <td>nta your stepmom and dad are definitely ahs an...</td>\n",
       "      <td>nta they treat you very badly that is a simple...</td>\n",
       "      <td>0</td>\n",
       "    </tr>\n",
       "    <tr>\n",
       "      <th>2</th>\n",
       "      <td>aita for not paying half</td>\n",
       "      <td>NaN</td>\n",
       "      <td>a new friend of mine and i discovered we have ...</td>\n",
       "      <td>nta sorry thats not the scope of birthday cele...</td>\n",
       "      <td>nta you dont plan an intimate party with anoth...</td>\n",
       "      <td>nta stop with the jade justify argue defend ex...</td>\n",
       "      <td>nta do not feel bad for standing your ground w...</td>\n",
       "      <td>nta she obviously just wanted to stick you wit...</td>\n",
       "      <td>nta paying for her mistakes doesnt make you an...</td>\n",
       "      <td>nta she is trying to use you and knew it befor...</td>\n",
       "      <td>nta you signed up for an intimate party thats ...</td>\n",
       "      <td>you said x she agreed and now wants to to pay ...</td>\n",
       "      <td>nta i think the number of people and maximum b...</td>\n",
       "      <td>0</td>\n",
       "    </tr>\n",
       "    <tr>\n",
       "      <th>3</th>\n",
       "      <td>aita for potentially getting my upstairs neigh...</td>\n",
       "      <td>NaN</td>\n",
       "      <td>im really conflicted with this so id like some...</td>\n",
       "      <td>nta you are well within your rights to complai...</td>\n",
       "      <td>nta this is not you being petty im surprised m...</td>\n",
       "      <td>sorry but you dont move into an apartment comp...</td>\n",
       "      <td>nta water overflowing into your apartment is d...</td>\n",
       "      <td>nta maybe theyve received similar warning and ...</td>\n",
       "      <td>nta you arent getting anyone evicted they are ...</td>\n",
       "      <td>its super weird that management would send you...</td>\n",
       "      <td>nta you need to look as the kids have nothing ...</td>\n",
       "      <td>nta its not you who is making them homeless it...</td>\n",
       "      <td>nta repeated bathtub overflows caused a massiv...</td>\n",
       "      <td>0</td>\n",
       "    </tr>\n",
       "    <tr>\n",
       "      <th>4</th>\n",
       "      <td>aita for demanding to go through my partners p...</td>\n",
       "      <td>aita for demanding to go through my partners p...</td>\n",
       "      <td>for context weve been dating for 15 years also...</td>\n",
       "      <td>nta i feel like most people would have gone sn...</td>\n",
       "      <td>nta if there was nothing to hide i wouldve sho...</td>\n",
       "      <td>man this is a tough one to be honest im really...</td>\n",
       "      <td>yta either trust her or dont and decide where ...</td>\n",
       "      <td>nta it honestly blows me away how many people ...</td>\n",
       "      <td>yta simply for demanding to go through her pho...</td>\n",
       "      <td>nta shes hiding something your lack of trust i...</td>\n",
       "      <td>yta 15 years together with no stated reasons o...</td>\n",
       "      <td>esh its a really crappy situation but if you t...</td>\n",
       "      <td>esh these commentors act like no one cheats or...</td>\n",
       "      <td>1</td>\n",
       "    </tr>\n",
       "  </tbody>\n",
       "</table>\n",
       "</div>"
      ],
      "text/plain": [
       "                                               title  \\\n",
       "0  aita for not taking one of my players complain...   \n",
       "1  aita for not going to my stepsisters graduatio...   \n",
       "2                           aita for not paying half   \n",
       "3  aita for potentially getting my upstairs neigh...   \n",
       "4  aita for demanding to go through my partners p...   \n",
       "\n",
       "                                             title.1  \\\n",
       "0  aita for not taking one of my players complain...   \n",
       "1                                                NaN   \n",
       "2                                                NaN   \n",
       "3                                                NaN   \n",
       "4  aita for demanding to go through my partners p...   \n",
       "\n",
       "                                                body  \\\n",
       "0  i dm for a group of 5 people will lorraine ben...   \n",
       "1  i 18m just graduated grade 12 this year my you...   \n",
       "2  a new friend of mine and i discovered we have ...   \n",
       "3  im really conflicted with this so id like some...   \n",
       "4  for context weve been dating for 15 years also...   \n",
       "\n",
       "                                       top_comment_1  \\\n",
       "0  nta listen youre the dm and seen as the figure...   \n",
       "1  nta my response would be thank you for the inv...   \n",
       "2  nta sorry thats not the scope of birthday cele...   \n",
       "3  nta you are well within your rights to complai...   \n",
       "4  nta i feel like most people would have gone sn...   \n",
       "\n",
       "                                       top_comment_2  \\\n",
       "0  nta yet because you are taking it seriously th...   \n",
       "1  so nta and dont go i have never heard of a 7th...   \n",
       "2  nta you dont plan an intimate party with anoth...   \n",
       "3  nta this is not you being petty im surprised m...   \n",
       "4  nta if there was nothing to hide i wouldve sho...   \n",
       "\n",
       "                                       top_comment_3  \\\n",
       "0  nta i think you should talk with her a little ...   \n",
       "1  nta what the hell is your step mum messaging y...   \n",
       "2  nta stop with the jade justify argue defend ex...   \n",
       "3  sorry but you dont move into an apartment comp...   \n",
       "4  man this is a tough one to be honest im really...   \n",
       "\n",
       "                                       top_comment_4  \\\n",
       "0  nta if she feels uncomfortable because shes in...   \n",
       "1  nta dont go you would be miserable and angry s...   \n",
       "2  nta do not feel bad for standing your ground w...   \n",
       "3  nta water overflowing into your apartment is d...   \n",
       "4  yta either trust her or dont and decide where ...   \n",
       "\n",
       "                                       top_comment_5  \\\n",
       "0  nta sounds like holly is being a territorial s...   \n",
       "1  nta id lie my ass off and say i cant attend be...   \n",
       "2  nta she obviously just wanted to stick you wit...   \n",
       "3  nta maybe theyve received similar warning and ...   \n",
       "4  nta it honestly blows me away how many people ...   \n",
       "\n",
       "                                       top_comment_6  \\\n",
       "0  nah but theres an easy way to solve it dump th...   \n",
       "1  nta and i have to say youre being the only res...   \n",
       "2  nta paying for her mistakes doesnt make you an...   \n",
       "3  nta you arent getting anyone evicted they are ...   \n",
       "4  yta simply for demanding to go through her pho...   \n",
       "\n",
       "                                       top_comment_7  \\\n",
       "0  nta it sounds like the person who made the com...   \n",
       "1  nta now that you are 18 you get to pick who yo...   \n",
       "2  nta she is trying to use you and knew it befor...   \n",
       "3  its super weird that management would send you...   \n",
       "4  nta shes hiding something your lack of trust i...   \n",
       "\n",
       "                                       top_comment_8  \\\n",
       "0  i would say nah i think holly is certainly ent...   \n",
       "1  nta you dont feel like partying and are reason...   \n",
       "2  nta you signed up for an intimate party thats ...   \n",
       "3  nta you need to look as the kids have nothing ...   \n",
       "4  yta 15 years together with no stated reasons o...   \n",
       "\n",
       "                                       top_comment_9  \\\n",
       "0  nta likeyoure in charge of the game but youre ...   \n",
       "1  nta your stepmom and dad are definitely ahs an...   \n",
       "2  you said x she agreed and now wants to to pay ...   \n",
       "3  nta its not you who is making them homeless it...   \n",
       "4  esh its a really crappy situation but if you t...   \n",
       "\n",
       "                                      top_comment_10  verdict  \n",
       "0  nah holly has issues of her own most likely an...        0  \n",
       "1  nta they treat you very badly that is a simple...        0  \n",
       "2  nta i think the number of people and maximum b...        0  \n",
       "3  nta repeated bathtub overflows caused a massiv...        0  \n",
       "4  esh these commentors act like no one cheats or...        1  "
      ]
     },
     "execution_count": 6,
     "metadata": {},
     "output_type": "execute_result"
    }
   ],
   "source": [
    "df.head()"
   ]
  },
  {
   "cell_type": "code",
   "execution_count": null,
   "metadata": {},
   "outputs": [],
   "source": [
    "from sklearn.feature_extraction.text import TfidfVectorizer\n",
    "from sklearn.model_selection import train_test_split\n",
    "from sklearn.linear_model import LogisticRegression\n",
    "from sklearn.svm import SVC\n",
    "from sklearn.cluster import KMeans\n",
    "from sklearn.metrics import classification_report, confusion_matrix\n",
    "from imblearn.over_sampling import SMOTE\n",
    "import pandas as pd\n",
    "\n",
    "# vectorize the title and body\n",
    "vectorizer = TfidfVectorizer(max_features=50)\n",
    "X = vectorizer.fit_transform(df['title'] + \" \" + df['body']).toarray()\n",
    "y = df['verdict']\n",
    "# dataset was highly unbalanced, sotry to make balanaced\n",
    "smote = SMOTE(random_state=42)\n",
    "X_res, y_res = smote.fit_resample(X, y)\n",
    "\n",
    "# train test split to train models\n",
    "X_train, X_test, y_train, y_test = train_test_split(X_res, y_res, test_size=0.3, random_state=42, stratify=y_res)"
   ]
  },
  {
   "cell_type": "code",
   "execution_count": null,
   "metadata": {},
   "outputs": [],
   "source": [
    "# define models and train them\n",
    "models = {\n",
    "    'Logistic Regression': LogisticRegression(max_iter=100, random_state=42),\n",
    "    'Support Vector Classifier': SVC(kernel='linear', random_state=42),\n",
    "    'KMeans Classifier': KMeans(n_clusters=2, random_state=42)  # KMeans doesn't require labels for fitting\n",
    "}\n",
    "results = {}\n",
    "for name, model in models.items():\n",
    "    if name == 'KMeans Classifier':\n",
    "        model.fit(X_train)  # unsupervised method\n",
    "        y_pred = model.predict(X_test)\n",
    "    else:\n",
    "        model.fit(X_train, y_train)\n",
    "        y_pred = model.predict(X_test)\n",
    "    \n",
    "    results[name] = classification_report(y_test, y_pred, output_dict=True)\n"
   ]
  },
  {
   "cell_type": "code",
   "execution_count": 9,
   "metadata": {},
   "outputs": [
    {
     "data": {
      "text/plain": [
       "{'Logistic Regression': {'0': {'precision': 0.6349656009712666,\n",
       "   'recall': 0.605012853470437,\n",
       "   'f1-score': 0.6196274600144803,\n",
       "   'support': 7780.0},\n",
       "  '1': {'precision': 0.6227596366314756,\n",
       "   'recall': 0.6521403779406093,\n",
       "   'f1-score': 0.6371114599686029,\n",
       "   'support': 7779.0},\n",
       "  'accuracy': 0.6285751012275853,\n",
       "  'macro avg': {'precision': 0.6288626188013711,\n",
       "   'recall': 0.6285766157055231,\n",
       "   'f1-score': 0.6283694599915416,\n",
       "   'support': 15559.0},\n",
       "  'weighted avg': {'precision': 0.6288630110490843,\n",
       "   'recall': 0.6285751012275853,\n",
       "   'f1-score': 0.628368898130241,\n",
       "   'support': 15559.0}},\n",
       " 'Support Vector Classifier': {'0': {'precision': 0.642816742081448,\n",
       "   'recall': 0.5843187660668381,\n",
       "   'f1-score': 0.6121734446539187,\n",
       "   'support': 7780.0},\n",
       "  '1': {'precision': 0.6189466242488512,\n",
       "   'recall': 0.6752795989201696,\n",
       "   'f1-score': 0.6458871265215788,\n",
       "   'support': 7779.0},\n",
       "  'accuracy': 0.6297962593997044,\n",
       "  'macro avg': {'precision': 0.6308816831651496,\n",
       "   'recall': 0.6297991824935039,\n",
       "   'f1-score': 0.6290302855877488,\n",
       "   'support': 15559.0},\n",
       "  'weighted avg': {'precision': 0.6308824502490827,\n",
       "   'recall': 0.6297962593997044,\n",
       "   'f1-score': 0.6290292021735875,\n",
       "   'support': 15559.0}},\n",
       " 'KMeans Classifier': {'0': {'precision': 0.5642716811675554,\n",
       "   'recall': 0.5168380462724935,\n",
       "   'f1-score': 0.5395142895478331,\n",
       "   'support': 7780.0},\n",
       "  '1': {'precision': 0.5542511561721807,\n",
       "   'recall': 0.6008484381025839,\n",
       "   'f1-score': 0.5766099185788305,\n",
       "   'support': 7779.0},\n",
       "  'accuracy': 0.5588405424513143,\n",
       "  'macro avg': {'precision': 0.5592614186698681,\n",
       "   'recall': 0.5588432421875387,\n",
       "   'f1-score': 0.5580621040633318,\n",
       "   'support': 15559.0},\n",
       "  'weighted avg': {'precision': 0.5592617406868676,\n",
       "   'recall': 0.5588405424513143,\n",
       "   'f1-score': 0.5580609119677912,\n",
       "   'support': 15559.0}}}"
      ]
     },
     "execution_count": 9,
     "metadata": {},
     "output_type": "execute_result"
    }
   ],
   "source": [
    "results"
   ]
  },
  {
   "cell_type": "code",
   "execution_count": null,
   "metadata": {},
   "outputs": [
    {
     "name": "stdout",
     "output_type": "stream",
     "text": [
      "{'0': {'precision': 0.6349656009712666, 'recall': 0.605012853470437, 'f1-score': 0.6196274600144803, 'support': 7780.0}, '1': {'precision': 0.6227596366314756, 'recall': 0.6521403779406093, 'f1-score': 0.6371114599686029, 'support': 7779.0}, 'accuracy': 0.6285751012275853, 'macro avg': {'precision': 0.6288626188013711, 'recall': 0.6285766157055231, 'f1-score': 0.6283694599915416, 'support': 15559.0}, 'weighted avg': {'precision': 0.6288630110490843, 'recall': 0.6285751012275853, 'f1-score': 0.628368898130241, 'support': 15559.0}}\n"
     ]
    }
   ],
   "source": [
    "print(results['Logistic Regression'] ) \n",
    "classifiers = ['Logistic Regression', 'Support Vector Classifier', 'KMeans Classifier']\n",
    "colors = ['#4e79a7', '#f28e2b', '#e15759', '#76b7b2']\n",
    "metrics = ['precision','recall', 'f1-score']\n",
    "# let's show all the stats\n",
    "for model in classifiers:\n",
    "    plt.figure(figsize=(12, 6))\n",
    "    # class 0 and class 1 data\n",
    "    values_0 = [results[model].get('0',{}).get(metric,0) for metric in metrics]\n",
    "    values_1 = [results[model].get('1', {}).get(metric, 0) for metric in metrics]\n",
    "    # plot the barz\n",
    "    bar_width = 0.35\n",
    "    x = range(len(metrics ))\n",
    "    bars_0 = plt.bar([i -bar_width / 2 for i in x], values_0, bar_width, label='NTA', color=colors[0])\n",
    "    bars_1 = plt.bar([i + bar_width /2 for i in x], values_1, bar_width, label='YTA',color=colors[1])\n",
    "\n",
    "    # put valu on top so easier to view\n",
    "    for bars in [bars_0, bars_1]:\n",
    "        for bar in bars:\n",
    "            yval = bar.get_height()\n",
    "            plt.text(bar.get_x() + bar.get_width() / 2, yval, round(yval,2), va='bottom',ha='center')\n",
    "    plt.title(f'Performance Metrics for {model}')\n",
    "    plt.xticks(x, metrics)\n",
    "    plt.ylim(0, 1)\n",
    "    plt.ylabel('Score')\n",
    "    plt.legend()\n",
    "    # filename = f'{model.replace(\" \", \"_\")}_metrics.png'\n",
    "    # plt.savefig(filename, bbox_inches='tight')\n",
    "    plt.close()  \n"
   ]
  },
  {
   "cell_type": "code",
   "execution_count": null,
   "metadata": {},
   "outputs": [],
   "source": []
  },
  {
   "cell_type": "code",
   "execution_count": null,
   "metadata": {},
   "outputs": [],
   "source": []
  },
  {
   "cell_type": "code",
   "execution_count": null,
   "metadata": {},
   "outputs": [],
   "source": []
  }
 ],
 "metadata": {
  "kernelspec": {
   "display_name": "cs7641_proj",
   "language": "python",
   "name": "python3"
  },
  "language_info": {
   "codemirror_mode": {
    "name": "ipython",
    "version": 3
   },
   "file_extension": ".py",
   "mimetype": "text/x-python",
   "name": "python",
   "nbconvert_exporter": "python",
   "pygments_lexer": "ipython3",
   "version": "3.9.20"
  }
 },
 "nbformat": 4,
 "nbformat_minor": 2
}

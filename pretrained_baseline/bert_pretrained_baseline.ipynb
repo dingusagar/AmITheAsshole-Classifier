{
 "cells": [
  {
   "cell_type": "code",
   "id": "initial_id",
   "metadata": {
    "collapsed": true,
    "ExecuteTime": {
     "end_time": "2024-10-23T11:42:56.964591Z",
     "start_time": "2024-10-23T11:42:55.425189Z"
    }
   },
   "source": [
    "import pandas as pd\n",
    "from matplotlib import pyplot as plt"
   ],
   "outputs": [],
   "execution_count": 16
  },
  {
   "metadata": {
    "ExecuteTime": {
     "end_time": "2024-10-23T11:42:58.447541Z",
     "start_time": "2024-10-23T11:42:58.445102Z"
    }
   },
   "cell_type": "code",
   "source": "DATA = \"../data/cleaned_data.csv\"",
   "id": "1e5ea8e8095c3cd7",
   "outputs": [],
   "execution_count": 17
  },
  {
   "metadata": {
    "ExecuteTime": {
     "end_time": "2024-10-23T11:47:36.426363Z",
     "start_time": "2024-10-23T11:47:35.237276Z"
    }
   },
   "cell_type": "code",
   "source": [
    "df = pd.read_csv(DATA)\n",
    "df.head()\n",
    "df = df.sample(n=1000, random_state=42)"
   ],
   "id": "1ecfd14a169f6b5a",
   "outputs": [],
   "execution_count": 24
  },
  {
   "metadata": {
    "ExecuteTime": {
     "end_time": "2024-10-23T11:47:37.032036Z",
     "start_time": "2024-10-23T11:47:37.026228Z"
    }
   },
   "cell_type": "code",
   "source": "df['verdict'].value_counts()",
   "id": "e9f1bea962ba9310",
   "outputs": [
    {
     "data": {
      "text/plain": [
       "verdict\n",
       "nta        853\n",
       "yta        144\n",
       "unknown      3\n",
       "Name: count, dtype: int64"
      ]
     },
     "execution_count": 25,
     "metadata": {},
     "output_type": "execute_result"
    }
   ],
   "execution_count": 25
  },
  {
   "metadata": {},
   "cell_type": "code",
   "outputs": [],
   "execution_count": null,
   "source": [
    "from transformers import AutoTokenizer, AutoModelForSequenceClassification\n",
    "from transformers import pipeline\n",
    "\n",
    "# Load tokenizer and model\n",
    "model_name = \"distilbert-base-uncased-finetuned-sst-2-english\"\n",
    "tokenizer = AutoTokenizer.from_pretrained(model_name)\n",
    "model = AutoModelForSequenceClassification.from_pretrained(model_name)\n",
    "\n",
    "# Create a sentiment analysis pipeline\n",
    "nlp = pipeline(\"sentiment-analysis\", model=model, tokenizer=tokenizer)\n"
   ],
   "id": "bb87da88a5a78327"
  }
 ],
 "metadata": {
  "kernelspec": {
   "display_name": "Python 3",
   "language": "python",
   "name": "python3"
  },
  "language_info": {
   "codemirror_mode": {
    "name": "ipython",
    "version": 2
   },
   "file_extension": ".py",
   "mimetype": "text/x-python",
   "name": "python",
   "nbconvert_exporter": "python",
   "pygments_lexer": "ipython2",
   "version": "2.7.6"
  }
 },
 "nbformat": 4,
 "nbformat_minor": 5
}
